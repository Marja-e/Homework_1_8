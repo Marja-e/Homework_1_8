{
 "cells": [
  {
   "cell_type": "code",
   "execution_count": null,
   "metadata": {},
   "outputs": [],
   "source": []
  },
  {
   "cell_type": "code",
   "execution_count": 5,
   "metadata": {},
   "outputs": [
    {
     "ename": "KeyboardInterrupt",
     "evalue": "",
     "output_type": "error",
     "traceback": [
      "\u001b[1;31m---------------------------------------------------------------------------\u001b[0m",
      "\u001b[1;31mKeyboardInterrupt\u001b[0m                         Traceback (most recent call last)",
      "Cell \u001b[1;32mIn[5], line 2\u001b[0m\n\u001b[0;32m      1\u001b[0m \u001b[39mif\u001b[39;00m \u001b[39m__name__\u001b[39m \u001b[39m==\u001b[39m \u001b[39m'\u001b[39m\u001b[39m__main__\u001b[39m\u001b[39m'\u001b[39m:\n\u001b[1;32m----> 2\u001b[0m     my_game_v2\u001b[39m.\u001b[39;49mscore_game(my_game_v2\u001b[39m.\u001b[39;49mrandom_predict)\n",
      "File \u001b[1;32mc:\\IDE\\project_game\\my_game_v2.py:48\u001b[0m, in \u001b[0;36mscore_game\u001b[1;34m(random_predict)\u001b[0m\n\u001b[0;32m     45\u001b[0m random_array \u001b[39m=\u001b[39m np\u001b[39m.\u001b[39mrandom\u001b[39m.\u001b[39mrandint(\u001b[39m1\u001b[39m, \u001b[39m101\u001b[39m, size\u001b[39m=\u001b[39m(\u001b[39m1000\u001b[39m))  \u001b[39m# загадали список чисел\u001b[39;00m\n\u001b[0;32m     47\u001b[0m \u001b[39mfor\u001b[39;00m number \u001b[39min\u001b[39;00m random_array:\n\u001b[1;32m---> 48\u001b[0m     count_ls\u001b[39m.\u001b[39mappend(random_predict(number))\n\u001b[0;32m     50\u001b[0m score \u001b[39m=\u001b[39m \u001b[39mint\u001b[39m(np\u001b[39m.\u001b[39mmean(count_ls))\n\u001b[0;32m     51\u001b[0m \u001b[39mprint\u001b[39m(\u001b[39mf\u001b[39m\u001b[39m\"\u001b[39m\u001b[39mВаш алгоритм угадывает число в среднем за:\u001b[39m\u001b[39m{\u001b[39;00mscore\u001b[39m}\u001b[39;00m\u001b[39m попыток\u001b[39m\u001b[39m\"\u001b[39m)\n",
      "File \u001b[1;32mc:\\IDE\\project_game\\my_game_v2.py:22\u001b[0m, in \u001b[0;36mrandom_predict\u001b[1;34m(number)\u001b[0m\n\u001b[0;32m     20\u001b[0m count \u001b[39m+\u001b[39m\u001b[39m=\u001b[39m \u001b[39m1\u001b[39m\n\u001b[0;32m     21\u001b[0m predict_number \u001b[39m=\u001b[39m np\u001b[39m.\u001b[39mrandom\u001b[39m.\u001b[39mrandint(new_range, \u001b[39m101\u001b[39m)  \u001b[39m# предполагаемое число\u001b[39;00m\n\u001b[1;32m---> 22\u001b[0m \u001b[39mif\u001b[39;00m number \u001b[39m==\u001b[39;49m predict_number:\n\u001b[0;32m     23\u001b[0m     \u001b[39mbreak\u001b[39;00m  \u001b[39m# выход из цикла если угадали\u001b[39;00m\n\u001b[0;32m     24\u001b[0m \u001b[39melse\u001b[39;00m:\n",
      "\u001b[1;31mKeyboardInterrupt\u001b[0m: "
     ]
    }
   ],
   "source": [
    "if __name__ == '__main__':\n",
    "    my_game_v2.score_game(my_game_v2.random_predict)"
   ]
  }
 ],
 "metadata": {
  "kernelspec": {
   "display_name": "Python 3",
   "language": "python",
   "name": "python3"
  },
  "language_info": {
   "codemirror_mode": {
    "name": "ipython",
    "version": 3
   },
   "file_extension": ".py",
   "mimetype": "text/x-python",
   "name": "python",
   "nbconvert_exporter": "python",
   "pygments_lexer": "ipython3",
   "version": "3.9.10"
  },
  "orig_nbformat": 4,
  "vscode": {
   "interpreter": {
    "hash": "00623a3d49b4984eb06acd5b55d2e17baf89e50ac43a91fab96c9a4fecd9d824"
   }
  }
 },
 "nbformat": 4,
 "nbformat_minor": 2
}
